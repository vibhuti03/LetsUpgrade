{
 "cells": [
  {
   "cell_type": "markdown",
   "id": "indirect-vietnamese",
   "metadata": {},
   "source": [
    "### Question 1\n",
    "Write a python program that takes two numbers as the input and print the result of Addition,\n",
    "Subtraction, Multiplication, Division of the two numbers."
   ]
  },
  {
   "cell_type": "markdown",
   "id": "bored-bradley",
   "metadata": {},
   "source": [
    "###### Taking inputs"
   ]
  },
  {
   "cell_type": "code",
   "execution_count": 1,
   "id": "polish-poetry",
   "metadata": {},
   "outputs": [
    {
     "name": "stdout",
     "output_type": "stream",
     "text": [
      "Enter value of a: 100\n",
      "Enter value of b: 5\n"
     ]
    }
   ],
   "source": [
    "a=int(input(\"Enter value of a: \"))\n",
    "b=int(input(\"Enter value of b: \"))"
   ]
  },
  {
   "cell_type": "markdown",
   "id": "adolescent-documentary",
   "metadata": {},
   "source": [
    "###### Addition, Subtraction, Multiplication, Division of the two numbers"
   ]
  },
  {
   "cell_type": "code",
   "execution_count": 2,
   "id": "devoted-briefs",
   "metadata": {},
   "outputs": [
    {
     "name": "stdout",
     "output_type": "stream",
     "text": [
      "105\n",
      "95\n",
      "500\n",
      "20\n"
     ]
    }
   ],
   "source": [
    "print(a+b)\n",
    "print(a-b)\n",
    "print(a*b)\n",
    "print(a//b)"
   ]
  },
  {
   "cell_type": "markdown",
   "id": "further-comedy",
   "metadata": {},
   "source": [
    "### Question 2\n",
    "Write a python program that takes two numbers as the input such as X and Y and print the result\n",
    "of X^Y(X to the power of Y)."
   ]
  },
  {
   "cell_type": "markdown",
   "id": "covered-depression",
   "metadata": {},
   "source": [
    "###### Taking inputs"
   ]
  },
  {
   "cell_type": "code",
   "execution_count": 3,
   "id": "suspected-cancer",
   "metadata": {},
   "outputs": [
    {
     "name": "stdout",
     "output_type": "stream",
     "text": [
      "Enter value of X: 6\n",
      "Enter value of Y: 3\n"
     ]
    }
   ],
   "source": [
    "X=int(input(\"Enter value of X: \"))\n",
    "Y=int(input(\"Enter value of Y: \"))"
   ]
  },
  {
   "cell_type": "markdown",
   "id": "proprietary-original",
   "metadata": {},
   "source": [
    "###### X to the power of Y"
   ]
  },
  {
   "cell_type": "code",
   "execution_count": 4,
   "id": "focused-friendship",
   "metadata": {},
   "outputs": [
    {
     "name": "stdout",
     "output_type": "stream",
     "text": [
      "216\n"
     ]
    }
   ],
   "source": [
    "print(X**Y)"
   ]
  }
 ],
 "metadata": {
  "kernelspec": {
   "display_name": "Python 3",
   "language": "python",
   "name": "python3"
  },
  "language_info": {
   "codemirror_mode": {
    "name": "ipython",
    "version": 3
   },
   "file_extension": ".py",
   "mimetype": "text/x-python",
   "name": "python",
   "nbconvert_exporter": "python",
   "pygments_lexer": "ipython3",
   "version": "3.6.9"
  }
 },
 "nbformat": 4,
 "nbformat_minor": 5
}
